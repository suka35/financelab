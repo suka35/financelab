{
 "cells": [
  {
   "cell_type": "code",
   "execution_count": 2,
   "metadata": {},
   "outputs": [],
   "source": [
    "import numpy as np"
   ]
  },
  {
   "cell_type": "code",
   "execution_count": 13,
   "metadata": {},
   "outputs": [
    {
     "ename": "UnboundLocalError",
     "evalue": "local variable 's' referenced before assignment",
     "output_type": "error",
     "traceback": [
      "\u001b[1;31m---------------------------------------------------------------------------\u001b[0m",
      "\u001b[1;31mUnboundLocalError\u001b[0m                         Traceback (most recent call last)",
      "\u001b[1;32m<ipython-input-13-ebc1f0db0620>\u001b[0m in \u001b[0;36m<module>\u001b[1;34m\u001b[0m\n\u001b[0;32m     25\u001b[0m     \u001b[1;32mreturn\u001b[0m \u001b[0mmu\u001b[0m\u001b[1;33m,\u001b[0m \u001b[0msig\u001b[0m\u001b[1;33m\u001b[0m\u001b[1;33m\u001b[0m\u001b[0m\n\u001b[0;32m     26\u001b[0m \u001b[1;33m\u001b[0m\u001b[0m\n\u001b[1;32m---> 27\u001b[1;33m \u001b[0mprint\u001b[0m\u001b[1;33m(\u001b[0m\u001b[0mkalman_filter\u001b[0m\u001b[1;33m(\u001b[0m\u001b[0mmu\u001b[0m\u001b[1;33m,\u001b[0m \u001b[0msig\u001b[0m\u001b[1;33m)\u001b[0m\u001b[1;33m)\u001b[0m\u001b[1;33m\u001b[0m\u001b[1;33m\u001b[0m\u001b[0m\n\u001b[0m",
      "\u001b[1;32m<ipython-input-13-ebc1f0db0620>\u001b[0m in \u001b[0;36mkalman_filter\u001b[1;34m(mu, sig)\u001b[0m\n\u001b[0;32m     18\u001b[0m         \u001b[0msig_bar\u001b[0m \u001b[1;33m=\u001b[0m \u001b[0mA\u001b[0m \u001b[1;33m*\u001b[0m \u001b[0msig\u001b[0m \u001b[1;33m*\u001b[0m \u001b[0mA\u001b[0m\u001b[1;33m.\u001b[0m\u001b[0mtranspose\u001b[0m\u001b[1;33m(\u001b[0m\u001b[1;33m)\u001b[0m\u001b[1;33m\u001b[0m\u001b[1;33m\u001b[0m\u001b[0m\n\u001b[0;32m     19\u001b[0m         \u001b[1;31m# measurement update\u001b[0m\u001b[1;33m\u001b[0m\u001b[1;33m\u001b[0m\u001b[1;33m\u001b[0m\u001b[0m\n\u001b[1;32m---> 20\u001b[1;33m         \u001b[0ms\u001b[0m \u001b[1;33m=\u001b[0m \u001b[0mC\u001b[0m \u001b[1;33m*\u001b[0m \u001b[0msig_bar\u001b[0m \u001b[1;33m*\u001b[0m \u001b[0mC\u001b[0m\u001b[1;33m.\u001b[0m\u001b[0mtranspose\u001b[0m\u001b[1;33m(\u001b[0m\u001b[1;33m)\u001b[0m \u001b[1;33m*\u001b[0m \u001b[0mnp\u001b[0m\u001b[1;33m.\u001b[0m\u001b[0mlinalg\u001b[0m\u001b[1;33m.\u001b[0m\u001b[0minv\u001b[0m\u001b[1;33m(\u001b[0m\u001b[0ms\u001b[0m\u001b[1;33m)\u001b[0m\u001b[1;33m\u001b[0m\u001b[1;33m\u001b[0m\u001b[0m\n\u001b[0m\u001b[0;32m     21\u001b[0m         \u001b[0mK\u001b[0m \u001b[1;33m=\u001b[0m \u001b[0msig_bar\u001b[0m \u001b[1;33m*\u001b[0m \u001b[0mC\u001b[0m\u001b[1;33m.\u001b[0m\u001b[0mtranspose\u001b[0m\u001b[1;33m(\u001b[0m\u001b[1;33m)\u001b[0m \u001b[1;33m*\u001b[0m \u001b[0mnp\u001b[0m\u001b[1;33m.\u001b[0m\u001b[0mlinalg\u001b[0m\u001b[1;33m.\u001b[0m\u001b[0minv\u001b[0m\u001b[1;33m(\u001b[0m\u001b[0ms\u001b[0m\u001b[1;33m)\u001b[0m\u001b[1;33m\u001b[0m\u001b[1;33m\u001b[0m\u001b[0m\n\u001b[0;32m     22\u001b[0m         \u001b[0mz\u001b[0m \u001b[1;33m=\u001b[0m \u001b[0mnp\u001b[0m\u001b[1;33m.\u001b[0m\u001b[0mmatrix\u001b[0m\u001b[1;33m(\u001b[0m\u001b[1;33m[\u001b[0m\u001b[0mmeasurement\u001b[0m\u001b[1;33m]\u001b[0m\u001b[1;33m)\u001b[0m\u001b[1;33m\u001b[0m\u001b[1;33m\u001b[0m\u001b[0m\n",
      "\u001b[1;31mUnboundLocalError\u001b[0m: local variable 's' referenced before assignment"
     ]
    }
   ],
   "source": [
    "measurements = [1,2,3,4,5]\n",
    "\n",
    "mu = np.matrix([[0.],[0.]]) # initial state (location and velocity)\n",
    "sig = np.matrix([[1000.,0.],\n",
    "               [0.,1000.]]) # initial uncertainty\n",
    "u = np.matrix([[0,],[0.]])  # external motion\n",
    "A = np.matrix([[1.,1.],\n",
    "              [0,1.]]) # next state function\n",
    "C = np.matrix([[1.,0.]])  # measurement function\n",
    "Q = np.matrix([[1.]]) # measurement uncertainty\n",
    "I = np.eye(2)\n",
    "B = np.eye(2)\n",
    "\n",
    "def kalman_filter(mu, sig):\n",
    "    for n, measurement  in enumerate(measurements):\n",
    "        # prediction\n",
    "        mu_bar = A * mu + B * u\n",
    "        sig_bar = A * sig * A.transpose()\n",
    "        # measurement update\n",
    "        s = C * sig_bar * C.transpose() * np.linalg.inv(s)\n",
    "        K = sig_bar * C.transpose() * np.linalg.inv(s)\n",
    "        z = np.matrix([measurement])\n",
    "        mu = mu_bar + K * (z - C * mu_bar)\n",
    "        sig = (I - K *C)*sig_bar\n",
    "    return mu, sig\n",
    "\n",
    "print(kalman_filter(mu, sig))"
   ]
  },
  {
   "cell_type": "code",
   "execution_count": 14,
   "metadata": {},
   "outputs": [
    {
     "name": "stdout",
     "output_type": "stream",
     "text": [
      "(matrix([[4.99980014],\n",
      "        [0.9999001 ]]), matrix([[0.59980023, 0.19986016],\n",
      "        [0.19986016, 0.09990012]]))\n"
     ]
    }
   ],
   "source": [
    "def kalman_filter(mu, sig):\n",
    "    for n, measurement in enumerate(measurements):\n",
    "        # prediction\n",
    "        mu_bar = A * mu + B * u\n",
    "        sig_bar = A * sig * A.transpose()\n",
    "\n",
    "        # measurement update\n",
    "        s = C * sig_bar * C.transpose() + Q\n",
    "        K = sig_bar * C.transpose() * np.linalg.inv(s)\n",
    "\n",
    "        z = np.matrix([[measurement]])\n",
    "        mu = mu_bar + K * (z - C * mu_bar)\n",
    "        sig = (I - K * C) * sig_bar\n",
    "    return mu, sig\n",
    "\n",
    "\n",
    "measurements = [1, 2, 3, 4, 5]\n",
    "\n",
    "mu = np.matrix([[0.], [0.]])  # initial state (location and velocity)\n",
    "sig = np.matrix([[1000., 0.],\n",
    "                 [0., 1000.]])  # initial uncertainty\n",
    "u = np.matrix([[0.], [0.]])  # external motion\n",
    "A = np.matrix([[1., 1.],\n",
    "               [0, 1.]])  # next state function\n",
    "C = np.matrix([[1., 0.]])  # measurement function\n",
    "Q = np.matrix([[1.]])  # measurement uncertainty\n",
    "I = np.eye(2)\n",
    "B = np.eye(2)\n",
    "\n",
    "print(kalman_filter(mu, sig))"
   ]
  }
 ],
 "metadata": {
  "kernelspec": {
   "display_name": "Python 3",
   "language": "python",
   "name": "python3"
  },
  "language_info": {
   "codemirror_mode": {
    "name": "ipython",
    "version": 3
   },
   "file_extension": ".py",
   "mimetype": "text/x-python",
   "name": "python",
   "nbconvert_exporter": "python",
   "pygments_lexer": "ipython3",
   "version": "3.7.7"
  }
 },
 "nbformat": 4,
 "nbformat_minor": 4
}
